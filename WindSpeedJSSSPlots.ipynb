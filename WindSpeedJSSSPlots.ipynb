{
 "cells": [
  {
   "cell_type": "code",
   "execution_count": null,
   "metadata": {},
   "outputs": [],
   "source": [
    "\"\"\"\n",
    "@author: Lars Kistner\n",
    "Affiliation: Department of Measurement and Control\n",
    "Mechanical Engineering Faculty - Universty of Kassel\n",
    "email: lars.kistner@mrt.uni-kassel.de\n",
    "\"\"\"\n",
    "\n",
    "import sys\n",
    "sys.path.append(\"../\")\n",
    "\n",
    "import numpy as np\n",
    "from numpy import nan\n",
    "import pandas as pd\n",
    "import matplotlib.pyplot as plt\n",
    "import matplotlib\n",
    "\n",
    "import lib\n",
    "\n",
    "fig_width_row = 3.267 * 1.2"
   ]
  },
  {
   "cell_type": "markdown",
   "metadata": {},
   "source": [
    "# Load training data"
   ]
  },
  {
   "cell_type": "code",
   "execution_count": null,
   "metadata": {},
   "outputs": [],
   "source": [
    "data_train = pd.read_csv(\"data/wind_train.csv\").to_numpy()"
   ]
  },
  {
   "cell_type": "markdown",
   "metadata": {},
   "source": [
    "# polynominale regression 1. - 4. order zero and non zero"
   ]
  },
  {
   "cell_type": "code",
   "execution_count": null,
   "metadata": {},
   "outputs": [],
   "source": [
    "# train data\n",
    "x = np.rad2deg(data_train[:,0])\n",
    "y = data_train[:,1]\n",
    "\n",
    "# poly models\n",
    "X_M04 = np.vstack([x**4, x**3, x**2, x, x**0-1]).T\n",
    "X_M04_f = \"$f_4 = a_4x^4 + a_3x^3 + a_2x^2 + a_1x$\"\n",
    "X_M03 = np.vstack([x**3, x**2, x, x**0-1]).T\n",
    "X_M03_f = \"$f_3 = a_3x^3 + a_2x^2 + a_1x$\"\n",
    "X_M02 = np.vstack([x**2, x, x**0-1]).T\n",
    "X_M02_f = \"$f_2 = a_2x^2 + a_1x$\"\n",
    "X_M01 = np.vstack([x, x**0-1]).T\n",
    "X_M01_f = \"$f_1 = a_1x$\"\n",
    "\n",
    "X_M4 = np.vstack([x**4, x**3, x**2, x, x**0]).T\n",
    "X_M4_f = \"$f_4 = a_4x^4 + a_3x^3 + a_2x^2 + a_1x + a_0$\"\n",
    "X_M3 = np.vstack([x**3, x**2, x, x**0]).T\n",
    "X_M3_f = \"$f_3 = a_3x^3 + a_2x^2 + a_1x + a_0$\"\n",
    "X_M2 = np.vstack([x**2, x, x**0]).T\n",
    "X_M2_f = \"$| \\\\hat{\\\\mathbf{v}}_\\\\mathrm{air} |$\"\n",
    "X_M1 = np.vstack([x, x**0]).T\n",
    "X_M1_f = \"$f_1 = a_1x + a_0$\"\n",
    "\n",
    "# pred\n",
    "x_pred = np.linspace(0, 12, 100)"
   ]
  },
  {
   "cell_type": "markdown",
   "metadata": {},
   "source": [
    "# Plots"
   ]
  },
  {
   "cell_type": "code",
   "execution_count": null,
   "metadata": {},
   "outputs": [],
   "source": [
    "lib.use_locals(True, True, True)\n",
    "plt.figure(figsize=[fig_width_row,fig_width_row*0.6], dpi=300)\n",
    "\n",
    "# zero\n",
    "models_list = [X_M2]\n",
    "labels_list = [X_M2_f]\n",
    "y_pred_list = []\n",
    "params_list = []\n",
    "x = np.rad2deg(data_train[:,0])\n",
    "y = data_train[:,1]\n",
    "\n",
    "plt.scatter(x, y, s=2, label=\"observation\")\n",
    "for i, X in enumerate(models_list):\n",
    "    param = np.linalg.lstsq(X, y, rcond=None)[0]\n",
    "    params_list.append(param)\n",
    "    func = np.poly1d(param)\n",
    "    print(param)\n",
    "    print(lib.fehlermass(y, func(x)))\n",
    "    y_pred = func(x_pred)\n",
    "    y_pred_list.append(y_pred)\n",
    "    plt.plot(x_pred, y_pred, \"k\", linewidth=2, label=labels_list[i])\n",
    "\n",
    "plt.xticks(range(0,15,2))\n",
    "plt.yticks(range(0,15,2))\n",
    "plt.xlim([0,12])\n",
    "plt.ylim([0,13])\n",
    "plt.ylabel(\"$\\\\vert \\\\mathbf{v}_\\\\mathrm{air} \\\\vert$ in $\\\\mathrm{m\\\\;s^{-1}}$\")\n",
    "plt.xlabel(\"$\\\\phi$ in deg\")\n",
    "plt.legend()\n",
    "plt.grid()\n",
    "\n",
    "plt.tight_layout()\n",
    "plt.savefig(\"../export/jsss_train_data.png\")\n",
    "plt.show()"
   ]
  },
  {
   "cell_type": "markdown",
   "metadata": {},
   "source": [
    "# load validation dataset"
   ]
  },
  {
   "cell_type": "code",
   "execution_count": null,
   "metadata": {},
   "outputs": [],
   "source": [
    "df = pd.read_csv(\"data/wind_vali.csv.zip\", index_col=0)\n",
    "print(df.shape)"
   ]
  },
  {
   "cell_type": "markdown",
   "metadata": {},
   "source": [
    "# Validation"
   ]
  },
  {
   "cell_type": "code",
   "execution_count": null,
   "metadata": {},
   "outputs": [],
   "source": [
    "def evaluate_poly_model(dataset, param):\n",
    "    x = dataset.wind_t - np.min(dataset.wind_t)\n",
    "    y = dataset.wind_len_xy\n",
    "\n",
    "    orientation_res = dataset.att_len_xy\n",
    "    p = np.poly1d(param)\n",
    "    y_pred = p(np.rad2deg(orientation_res))\n",
    "    return (x, y, y_pred)\n",
    "\n",
    "for param_no, param in enumerate(params_list):\n",
    "    lib.use_locals(True, True, True)\n",
    "    fig = plt.figure(figsize=[fig_width_row, fig_width_row*1.2], dpi=300)\n",
    "    for i, key in enumerate([\"valiA\", \"valiB\", \"valiC\"]):\n",
    "        x, y, y_pred = evaluate_poly_model(df[df.dataset==key], param)\n",
    "        y = lib.moving_average(y, 50)\n",
    "        y_pred = lib.moving_average(y_pred, 50)\n",
    "        diff = y - y_pred\n",
    "\n",
    "        fig.add_subplot(3, 1, i+1)\n",
    "        plt.yticks(range(0,10))\n",
    "\n",
    "        offset = [10*10,130*10]\n",
    "\n",
    "        if i == 0:\n",
    "            plt.title(\"validation data A\")\n",
    "            plt.ylim([0,3])\n",
    "        elif i == 1:\n",
    "            plt.title(\"validation data B\")\n",
    "            plt.ylim([1,5])\n",
    "        elif i == 2:\n",
    "            plt.title(\"validation data C\")\n",
    "            plt.ylim([2,7])\n",
    "            plt.xlabel(\"time in s\")\n",
    "        else:\n",
    "            raise RuntimeError(\"This should not have happend\")\n",
    "        plt.ylabel(\"$\\\\vert \\\\mathbf{v}_\\\\mathrm{wind} \\\\vert$ in $\\\\mathrm{m\\\\;s^{-1}}$\")\n",
    "        \n",
    "        plt.plot(x[offset[0]:offset[1]]-offset[0]/10, y[offset[0]:offset[1]], \"b:\", label=\"measured\")\n",
    "        plt.plot(x[offset[0]:offset[1]]-offset[0]/10, y_pred[offset[0]:offset[1]], \"k-\", label=\"estimated\")\n",
    "        plt.grid()\n",
    "        plt.xlim([0, 120])\n",
    "        if i == 0:\n",
    "            #plt.legend(loc=\"lower right\")\n",
    "            plt.legend()\n",
    "        print(f\"{key}: {lib.fehlermass(y[offset[0]:offset[1]], y_pred[offset[0]:offset[1]])}\")\n",
    "\n",
    "    plt.tight_layout()\n",
    "    plt.savefig(f\"../export/jsss_wind_speed_vali_{param_no}.png\")\n",
    "    plt.show()"
   ]
  }
 ],
 "metadata": {
  "kernelspec": {
   "display_name": "Python 3 (ipykernel)",
   "language": "python",
   "name": "python3"
  },
  "language_info": {
   "codemirror_mode": {
    "name": "ipython",
    "version": 3
   },
   "file_extension": ".py",
   "mimetype": "text/x-python",
   "name": "python",
   "nbconvert_exporter": "python",
   "pygments_lexer": "ipython3",
   "version": "3.12.3"
  },
  "orig_nbformat": 4
 },
 "nbformat": 4,
 "nbformat_minor": 2
}
