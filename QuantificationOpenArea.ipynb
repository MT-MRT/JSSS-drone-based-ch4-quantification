{
 "cells": [
  {
   "cell_type": "code",
   "execution_count": null,
   "metadata": {},
   "outputs": [],
   "source": [
    "\"\"\"\n",
    "@author: Lars Kistner\n",
    "Affiliation: Department of Measurement and Control\n",
    "Mechanical Engineering Faculty - Universty of Kassel\n",
    "email: lars.kistner@mrt.uni-kassel.de\n",
    "\"\"\"\n",
    "\n",
    "import sys\n",
    "sys.path.append(\"../\")\n",
    "\n",
    "import numpy as np\n",
    "from numpy import nan\n",
    "import pandas as pd\n",
    "import matplotlib.pyplot as plt\n",
    "import matplotlib\n",
    "\n",
    "import lib\n",
    "\n",
    "IMAGE_SIZE = (6, 6)\n",
    "IMAGE_SIZE_L = (6, 3.5)\n",
    "\n",
    "X_RANGE = [77,82]\n",
    "Y_RANGE = [-31,-25]\n",
    "\n",
    "GRID_SIZE = 0.25\n",
    "PPMM_RANGE = matplotlib.colors.Normalize(0, 50)\n",
    "\n",
    "# constants for quantification\n",
    "Tu = lib.Celsius_to_Kelvin(20) # K\n",
    "pu = 101325 # Pa\n",
    "alpha = np.radians(2.4) # TDLAS rad\n",
    "QUANT_MAX = 40.0\n",
    "\n",
    "QUANTIFICATION_POINTS = 11"
   ]
  },
  {
   "attachments": {},
   "cell_type": "markdown",
   "metadata": {},
   "source": [
    "# Load data"
   ]
  },
  {
   "cell_type": "code",
   "execution_count": null,
   "metadata": {},
   "outputs": [],
   "source": [
    "pc0_fil = pd.read_csv(\"data/openarea_ch4_0_ch4.csv\").to_records(index=False)\n",
    "pc50_fil = pd.read_csv(\"data/openarea_ch4_50_ch4.csv\").to_records(index=False)\n",
    "pc100_fil = pd.read_csv(\"data/openarea_ch4_100_ch4.csv\").to_records(index=False)\n",
    "\n",
    "\n",
    "# Seperated in high and low concentration\n",
    "lvl = 10\n",
    "pc0_fil_low = pc0_fil[pc0_fil[\"ppmm\"] <= lvl]\n",
    "pc0_fil_high = pc0_fil[pc0_fil[\"ppmm\"] > lvl]\n",
    "\n",
    "pc50_fil_low = pc50_fil[pc50_fil[\"ppmm\"] <= lvl]\n",
    "pc50_fil_high = pc50_fil[pc50_fil[\"ppmm\"] > lvl]\n",
    "\n",
    "pc100_fil_low = pc100_fil[pc100_fil[\"ppmm\"] <= lvl]\n",
    "pc100_fil_high = pc100_fil[pc100_fil[\"ppmm\"] > lvl]"
   ]
  },
  {
   "attachments": {},
   "cell_type": "markdown",
   "metadata": {},
   "source": [
    "# Quantification"
   ]
  },
  {
   "cell_type": "code",
   "execution_count": null,
   "metadata": {},
   "outputs": [],
   "source": [
    "quantification = lib.quantify_points(pc0_fil, alpha, pu, Tu)\n",
    "quantification = quantification[quantification > 0]\n",
    "\n",
    "lib.use_locals(True, True, True)\n",
    "lib.plot_quantify_pc_hist_box(pc0_fil_low, pc0_fil_high, quantification, X_RANGE, Y_RANGE, PPMM_RANGE, 0.0, [0, 3.5], [0.7, None], 0.25, QUANTIFICATION_POINTS, en=True)\n",
    "plt.savefig('../export/jsss_openarea_0.png')\n",
    "plt.show()"
   ]
  },
  {
   "cell_type": "code",
   "execution_count": null,
   "metadata": {},
   "outputs": [],
   "source": [
    "quantification = lib.quantify_points(pc0_fil, alpha, pu, Tu, wind_channel=\"local_wind\")\n",
    "quantification = quantification[quantification > 0]\n",
    "quantification[quantification > QUANT_MAX] = 0\n",
    "\n",
    "lib.use_locals(True, True, True)\n",
    "lib.plot_quantify_pc_hist_box(pc0_fil_low, pc0_fil_high, quantification, X_RANGE, Y_RANGE, PPMM_RANGE, 0.0, [0, 3.5], [0.7, None], 0.25, QUANTIFICATION_POINTS, en=True)\n",
    "plt.savefig('../export/jsss_openarea_0_local.png')\n",
    "plt.show()"
   ]
  },
  {
   "cell_type": "code",
   "execution_count": null,
   "metadata": {},
   "outputs": [],
   "source": [
    "quantification = lib.quantify_points(pc50_fil, alpha, pu, Tu)\n",
    "quantification = quantification[quantification > 0]\n",
    "\n",
    "lib.use_locals(True, True, True)\n",
    "lib.plot_quantify_pc_hist_box(pc50_fil_low, pc50_fil_high, quantification, X_RANGE, Y_RANGE, PPMM_RANGE, 1.1, [0, 3.5], [0.7, None], 0.25, QUANTIFICATION_POINTS, en=True)\n",
    "plt.savefig('../export/jsss_openarea_50.png')\n",
    "plt.show()"
   ]
  },
  {
   "cell_type": "code",
   "execution_count": null,
   "metadata": {},
   "outputs": [],
   "source": [
    "quantification = lib.quantify_points(pc50_fil, alpha, pu, Tu, wind_channel=\"local_wind\")\n",
    "quantification[quantification > QUANT_MAX] = 0\n",
    "\n",
    "lib.use_locals(True, True, True)\n",
    "lib.plot_quantify_pc_hist_box(pc50_fil_low, pc50_fil_high, quantification, X_RANGE, Y_RANGE, PPMM_RANGE, 1.1, [0, 3.5], [0.7, None], 0.25, QUANTIFICATION_POINTS, en=True)\n",
    "plt.savefig('../export/jsss_openarea_50_local.png')\n",
    "plt.show()"
   ]
  },
  {
   "cell_type": "code",
   "execution_count": null,
   "metadata": {},
   "outputs": [],
   "source": [
    "quantification = lib.quantify_points(pc100_fil, alpha, pu, Tu)\n",
    "quantification = quantification[quantification > 0]\n",
    "\n",
    "lib.use_locals(True, True, True)\n",
    "lib.plot_quantify_pc_hist_box(pc100_fil_low, pc100_fil_high, quantification, X_RANGE, Y_RANGE, PPMM_RANGE, 2.2, [0, 3.5], [0.7, None], 0.25, QUANTIFICATION_POINTS, en=True)\n",
    "plt.savefig('../export/jsss_openarea_100.png')\n",
    "plt.show()"
   ]
  },
  {
   "cell_type": "code",
   "execution_count": null,
   "metadata": {},
   "outputs": [],
   "source": [
    "quantification = lib.quantify_points(pc100_fil[pc100_fil.local_wind!=None], alpha, pu, Tu, wind_channel = \"local_wind\")\n",
    "quantification = quantification[quantification > 0]\n",
    "quantification[quantification > QUANT_MAX] = 0\n",
    "\n",
    "lib.use_locals(True, True, True)\n",
    "lib.plot_quantify_pc_hist_box(pc100_fil_low, pc100_fil_high, quantification, X_RANGE, Y_RANGE, PPMM_RANGE, 2.2, [0, 3.5], [0.7, None], 0.25, QUANTIFICATION_POINTS, en=True)\n",
    "plt.savefig('../export/jsss_openarea_100_local.png')\n",
    "plt.show()"
   ]
  },
  {
   "cell_type": "code",
   "execution_count": null,
   "metadata": {},
   "outputs": [],
   "source": []
  }
 ],
 "metadata": {
  "kernelspec": {
   "display_name": "Python 3.8.10 64-bit",
   "language": "python",
   "name": "python3"
  },
  "language_info": {
   "codemirror_mode": {
    "name": "ipython",
    "version": 3
   },
   "file_extension": ".py",
   "mimetype": "text/x-python",
   "name": "python",
   "nbconvert_exporter": "python",
   "pygments_lexer": "ipython3",
   "version": "3.12.4"
  },
  "orig_nbformat": 4,
  "vscode": {
   "interpreter": {
    "hash": "916dbcbb3f70747c44a77c7bcd40155683ae19c65e1c03b4aa3499c5328201f1"
   }
  }
 },
 "nbformat": 4,
 "nbformat_minor": 2
}
