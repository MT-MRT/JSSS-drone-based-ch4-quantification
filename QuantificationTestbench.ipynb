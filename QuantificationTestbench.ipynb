{
 "cells": [
  {
   "cell_type": "code",
   "execution_count": null,
   "metadata": {},
   "outputs": [],
   "source": [
    "\"\"\"\n",
    "@author: Lars Kistner\n",
    "Affiliation: Department of Measurement and Control\n",
    "Mechanical Engineering Faculty - Universty of Kassel\n",
    "email: lars.kistner@mrt.uni-kassel.de\n",
    "\"\"\"\n",
    "\n",
    "import sys\n",
    "sys.path.append(\"../\")\n",
    "\n",
    "import numpy as np\n",
    "from numpy import nan\n",
    "import pandas as pd\n",
    "import matplotlib.pyplot as plt\n",
    "import matplotlib\n",
    "\n",
    "import lib\n",
    "\n",
    "IMAGE_SIZE = (6, 6)\n",
    "IMAGE_SIZE_L = (6, 3.5)\n",
    "\n",
    "X_RANGE = (-0.3, 0.3)\n",
    "Y_RANGE = (-0.3, 0.3)\n",
    "\n",
    "GRID_SIZE = 0.25\n",
    "PPMM_RANGE = matplotlib.colors.Normalize(0, 1_000)\n",
    "\n",
    "# constants for quantification\n",
    "Tu = lib.Celsius_to_Kelvin(20) # K\n",
    "pu = 101325 # Pa\n",
    "alpha = np.radians(2.4) # TDLAS rad\n",
    "\n",
    "QUANTIFICATION_POINTS = 11"
   ]
  },
  {
   "attachments": {},
   "cell_type": "markdown",
   "metadata": {},
   "source": [
    "# load data"
   ]
  },
  {
   "cell_type": "code",
   "execution_count": null,
   "metadata": {},
   "outputs": [],
   "source": [
    "pc0 = pd.read_csv(\"data/testbench_ch4_0.csv\").to_records(index=False)\n",
    "pc25 = pd.read_csv(\"data/testbench_ch4_25.csv\").to_records(index=False)\n",
    "pc50 = pd.read_csv(\"data/testbench_ch4_50.csv\").to_records(index=False)\n",
    "pc75 = pd.read_csv(\"data/testbench_ch4_75.csv\").to_records(index=False)\n",
    "pc100 = pd.read_csv(\"data/testbench_ch4_100.csv\").to_records(index=False)\n",
    "\n",
    "lvl = 400\n",
    "\n",
    "pc0_low = pc0[pc0[\"ppmm\"] <= lvl]\n",
    "pc0_high = pc0[pc0[\"ppmm\"] > lvl]\n",
    "\n",
    "pc25_low = pc25[pc25[\"ppmm\"] <= lvl]\n",
    "pc25_high = pc25[pc25[\"ppmm\"] > lvl]\n",
    "\n",
    "pc50_low = pc50[pc50[\"ppmm\"] <= lvl]\n",
    "pc50_high = pc50[pc50[\"ppmm\"] > lvl]\n",
    "\n",
    "pc75_low = pc75[pc75[\"ppmm\"] <= lvl]\n",
    "pc75_high = pc75[pc75[\"ppmm\"] > lvl]\n",
    "\n",
    "pc100_low = pc100[pc100[\"ppmm\"] <= lvl]\n",
    "pc100_high = pc100[pc100[\"ppmm\"] > lvl]"
   ]
  },
  {
   "attachments": {},
   "cell_type": "markdown",
   "metadata": {},
   "source": [
    "# Quantification"
   ]
  },
  {
   "cell_type": "code",
   "execution_count": null,
   "metadata": {},
   "outputs": [],
   "source": [
    "quantification = lib.quantify_points(pc0, alpha, pu, Tu)\n",
    "\n",
    "lib.use_locals(True,True, True)\n",
    "lib.plot_quantify_pc_hist_box(pc0_low, pc0_high, quantification, X_RANGE, Y_RANGE, PPMM_RANGE, 0.0, [0, 3.5], [0.7, None], 0.25, 11, en=True)\n",
    "plt.savefig('../export/jsss_testbench_0.png')\n",
    "plt.show()"
   ]
  },
  {
   "cell_type": "code",
   "execution_count": null,
   "metadata": {},
   "outputs": [],
   "source": [
    "quantification = lib.quantify_points(pc50, alpha, pu, Tu)\n",
    "\n",
    "lib.use_locals(True,True, True)\n",
    "lib.plot_quantify_pc_hist_box(pc50_low, pc50_high, quantification, X_RANGE, Y_RANGE, PPMM_RANGE, 1.1, [0, 3.5], [0.7, None], 0.25, 11, en=True)\n",
    "plt.savefig('../export/jsss_testbench_50.png')\n",
    "plt.show()"
   ]
  },
  {
   "cell_type": "code",
   "execution_count": null,
   "metadata": {},
   "outputs": [],
   "source": [
    "quantification = lib.quantify_points(pc75, alpha, pu, Tu)\n",
    "\n",
    "lib.use_locals(True,True, True)\n",
    "lib.plot_quantify_pc_hist_box(pc75_low, pc75_high, quantification, X_RANGE, Y_RANGE, PPMM_RANGE, 1.65, [0, 3.5], [0.7, None], 0.25, 16, en=True)\n",
    "plt.savefig('../export/jsss_testbench_75.png')\n",
    "plt.show()"
   ]
  },
  {
   "cell_type": "code",
   "execution_count": null,
   "metadata": {},
   "outputs": [],
   "source": [
    "quantification = lib.quantify_points(pc100, alpha, pu, Tu)\n",
    "\n",
    "lib.use_locals(True,True, True)\n",
    "lib.plot_quantify_pc_hist_box(pc100_low, pc100_high, quantification, X_RANGE, Y_RANGE, PPMM_RANGE, 2.2, [0, 3.5], [0.7, None], 0.25, 16, en=True)\n",
    "plt.savefig('../export/jsss_testbench_100.png')\n",
    "plt.show()"
   ]
  }
 ],
 "metadata": {
  "kernelspec": {
   "display_name": "Python 3.8.10 64-bit",
   "language": "python",
   "name": "python3"
  },
  "language_info": {
   "codemirror_mode": {
    "name": "ipython",
    "version": 3
   },
   "file_extension": ".py",
   "mimetype": "text/x-python",
   "name": "python",
   "nbconvert_exporter": "python",
   "pygments_lexer": "ipython3",
   "version": "3.12.3"
  },
  "orig_nbformat": 4,
  "vscode": {
   "interpreter": {
    "hash": "916dbcbb3f70747c44a77c7bcd40155683ae19c65e1c03b4aa3499c5328201f1"
   }
  }
 },
 "nbformat": 4,
 "nbformat_minor": 2
}
